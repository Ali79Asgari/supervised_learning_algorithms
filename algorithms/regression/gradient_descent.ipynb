{
 "cells": [
  {
   "cell_type": "code",
   "id": "initial_id",
   "metadata": {
    "collapsed": true,
    "ExecuteTime": {
     "end_time": "2024-10-24T13:06:15.536782Z",
     "start_time": "2024-10-24T13:06:15.525690Z"
    }
   },
   "source": [
    "import numpy as np\n",
    "import matplotlib.pyplot as plt"
   ],
   "outputs": [],
   "execution_count": 19
  },
  {
   "metadata": {
    "ExecuteTime": {
     "end_time": "2024-10-24T13:06:15.546200Z",
     "start_time": "2024-10-24T13:06:15.536782Z"
    }
   },
   "cell_type": "code",
   "source": [
    "X = np.array([1, 2, 3, 4, 5])\n",
    "y = np.array([5, 7, 9, 11, 13])\n",
    "\n",
    "m = len(X)\n",
    "\n",
    "X = np.c_[np.ones(m), X]"
   ],
   "id": "b58ec2f312c3a374",
   "outputs": [],
   "execution_count": 20
  },
  {
   "metadata": {
    "ExecuteTime": {
     "end_time": "2024-10-24T13:06:15.556431Z",
     "start_time": "2024-10-24T13:06:15.546200Z"
    }
   },
   "cell_type": "code",
   "source": [
    "def compute_cost(X, y, theta):\n",
    "    m = len(y)\n",
    "    predictions = X.dot(theta)\n",
    "    errors = predictions - y\n",
    "    cost = (1 / (2 * m)) * np.sum(errors**2)\n",
    "    return cost"
   ],
   "id": "abd9fddb39f331e4",
   "outputs": [],
   "execution_count": 21
  },
  {
   "metadata": {
    "ExecuteTime": {
     "end_time": "2024-10-24T13:06:15.567409Z",
     "start_time": "2024-10-24T13:06:15.557435Z"
    }
   },
   "cell_type": "code",
   "source": [
    "def gradient_descent(X, y, theta, alpha, iterations):\n",
    "    m = len(y)\n",
    "    cost_history = []\n",
    "    \n",
    "    for i in range(iterations):\n",
    "        predictions = X.dot(theta)\n",
    "        errors = predictions - y\n",
    "        gradients = (1 / m) * X.T.dot(errors)\n",
    "        theta = theta - alpha * gradients\n",
    "        \n",
    "        cost = compute_cost(X, y, theta)\n",
    "        cost_history.append(cost)\n",
    "        \n",
    "        if i % 1000 == 0:\n",
    "            print(f\"Iteration: {i}, Cost: {cost}\")\n",
    "            \n",
    "    return theta, cost_history"
   ],
   "id": "6605a7a76cce0b36",
   "outputs": [],
   "execution_count": 22
  },
  {
   "metadata": {
    "ExecuteTime": {
     "end_time": "2024-10-24T13:06:15.842388Z",
     "start_time": "2024-10-24T13:06:15.567409Z"
    }
   },
   "cell_type": "code",
   "source": [
    "theta = np.zeros(2)\n",
    "\n",
    "alpha = 0.01\n",
    "iterations = 10000\n",
    "\n",
    "theta_optimal, cost_history = gradient_descent(X, y, theta, alpha, iterations)\n",
    "\n",
    "print(f\"Optimal parameters (theta): {theta_optimal}\")"
   ],
   "id": "9b3e033c28729fc4",
   "outputs": [
    {
     "name": "stdout",
     "output_type": "stream",
     "text": [
      "Iteration: 0, Cost: 34.6963\n",
      "Iteration: 1000, Cost: 0.01587656413462944\n",
      "Iteration: 2000, Cost: 0.0005384939669418935\n",
      "Iteration: 3000, Cost: 1.8264389572828376e-05\n",
      "Iteration: 4000, Cost: 6.194831269185352e-07\n",
      "Iteration: 5000, Cost: 2.1011342481817558e-08\n",
      "Iteration: 6000, Cost: 7.126530065233272e-10\n",
      "Iteration: 7000, Cost: 2.417143542027796e-11\n",
      "Iteration: 8000, Cost: 8.198355785062131e-13\n",
      "Iteration: 9000, Cost: 2.7806804616688865e-14\n",
      "Optimal parameters (theta): [2.9999999  2.00000003]\n"
     ]
    }
   ],
   "execution_count": 23
  },
  {
   "metadata": {
    "ExecuteTime": {
     "end_time": "2024-10-24T13:06:16.004500Z",
     "start_time": "2024-10-24T13:06:15.842388Z"
    }
   },
   "cell_type": "code",
   "source": [
    "plt.plot(range(iterations), cost_history)\n",
    "plt.xlabel(\"Iterations\")\n",
    "plt.ylabel(\"Cost\")\n",
    "plt.title(\"Cost Function vs. Iterations\")\n",
    "plt.show()"
   ],
   "id": "194774a5c5797436",
   "outputs": [
    {
     "data": {
      "text/plain": [
       "<Figure size 640x480 with 1 Axes>"
      ],
      "image/png": "[encoded data removed]"
     },
     "metadata": {},
     "output_type": "display_data"
    }
   ],
   "execution_count": 24
  }
 ],
 "metadata": {
  "kernelspec": {
   "display_name": "Python 3",
   "language": "python",
   "name": "python3"
  },
  "language_info": {
   "codemirror_mode": {
    "name": "ipython",
    "version": 2
   },
   "file_extension": ".py",
   "mimetype": "text/x-python",
   "name": "python",
   "nbconvert_exporter": "python",
   "pygments_lexer": "ipython2",
   "version": "2.7.6"
  }
 },
 "nbformat": 4,
 "nbformat_minor": 5
}
